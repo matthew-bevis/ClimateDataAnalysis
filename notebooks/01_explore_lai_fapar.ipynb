{
 "cells": [
  {
   "cell_type": "markdown",
   "metadata": {
    "application/vnd.databricks.v1+cell": {
     "cellMetadata": {
      "byteLimit": 2048000,
      "rowLimit": 10000
     },
     "inputWidgets": {},
     "nuid": "6fd4053a-5472-4ce7-ae44-867d893a18a1",
     "showTitle": false,
     "tableResultSettingsMap": {},
     "title": ""
    }
   },
   "source": [
    "# LAI & FAPAR Yearly Trends\n",
    "This notebook queries the parquet files stored in ADLS and computes yearly averages."
   ]
  },
  {
   "cell_type": "code",
   "execution_count": 0,
   "metadata": {
    "application/vnd.databricks.v1+cell": {
     "cellMetadata": {
      "byteLimit": 2048000,
      "rowLimit": 10000
     },
     "inputWidgets": {},
     "nuid": "c1a44752-8617-47aa-83b3-4957439bc5f1",
     "showTitle": false,
     "tableResultSettingsMap": {},
     "title": ""
    }
   },
   "outputs": [],
   "source": [
    "from pyspark.sql import functions as F\n",
    "\n",
    "df = spark.read.parquet(\n",
    "    \"abfss://climate-data-analysis@datalakeq7aj6k0.dfs.core.windows.net/climate_data/*/*.parquet\"\n",
    ")\n",
    "df.createOrReplaceTempView(\"climate\")"
   ]
  },
  {
   "cell_type": "code",
   "execution_count": 0,
   "metadata": {
    "application/vnd.databricks.v1+cell": {
     "cellMetadata": {
      "byteLimit": 2048000,
      "rowLimit": 10000
     },
     "inputWidgets": {},
     "nuid": "5dc9c4b8-9ada-4637-85f7-823b68efdee4",
     "showTitle": false,
     "tableResultSettingsMap": {},
     "title": ""
    }
   },
   "outputs": [
    {
     "output_type": "display_data",
     "data": {
      "text/html": [
       "<style scoped>\n",
       "  .table-result-container {\n",
       "    max-height: 300px;\n",
       "    overflow: auto;\n",
       "  }\n",
       "  table, th, td {\n",
       "    border: 1px solid black;\n",
       "    border-collapse: collapse;\n",
       "  }\n",
       "  th, td {\n",
       "    padding: 5px;\n",
       "  }\n",
       "  th {\n",
       "    text-align: left;\n",
       "  }\n",
       "</style><div class='table-result-container'><table class='table-result'><thead style='background-color: white'><tr><th>year</th><th>avg_lai</th><th>avg_fapar</th></tr></thead><tbody><tr><td>1981</td><td>0.757244680851064</td><td>0.2899680851063828</td></tr><tr><td>1982</td><td>0.7308903225806446</td><td>0.37846451612903276</td></tr><tr><td>1983</td><td>null</td><td>null</td></tr><tr><td>1984</td><td>0.6799192245557356</td><td>0.3767528271405485</td></tr><tr><td>1985</td><td>0.8006737089201877</td><td>0.40397535211267604</td></tr><tr><td>1986</td><td>0.8397948717948719</td><td>0.4234102564102565</td></tr><tr><td>1987</td><td>0.7737510040160644</td><td>0.40567871485943785</td></tr><tr><td>1988</td><td>0.7867464387464387</td><td>0.40754131054131076</td></tr><tr><td>1989</td><td>0.48132779097387174</td><td>0.2810605700712588</td></tr><tr><td>1990</td><td>0.6192538226299691</td><td>0.34266972477064234</td></tr><tr><td>1991</td><td>0.8677819548872178</td><td>0.4076992481203007</td></tr><tr><td>1992</td><td>0.7317180851063826</td><td>0.39012765957446804</td></tr><tr><td>1993</td><td>0.6442647058823531</td><td>0.37964705882352945</td></tr><tr><td>1994</td><td>0.7899633911368017</td><td>0.40444123314065544</td></tr><tr><td>1995</td><td>0.7715995410212285</td><td>0.3863993115318413</td></tr><tr><td>1996</td><td>0.8525471698113201</td><td>0.4277761006289313</td></tr><tr><td>1997</td><td>0.9937088122605364</td><td>0.46148275862068977</td></tr><tr><td>1998</td><td>0.9325185995623617</td><td>0.44500875273523005</td></tr><tr><td>1999</td><td>0.8476845794392522</td><td>0.4198598130841119</td></tr><tr><td>2000</td><td>0.7309733570159856</td><td>0.3902841918294849</td></tr><tr><td>2001</td><td>0.9553091045335326</td><td>0.4591581116523032</td></tr><tr><td>2002</td><td>0.9832906118143461</td><td>0.4587146624472573</td></tr><tr><td>2003</td><td>1.0262125732551957</td><td>0.47489984017048537</td></tr><tr><td>2004</td><td>0.8086938775510204</td><td>0.40504081632653066</td></tr><tr><td>2005</td><td>0.9689533073929965</td><td>0.45320622568093394</td></tr><tr><td>2006</td><td>0.9860757961783431</td><td>0.46784012738853714</td></tr><tr><td>2007</td><td>0.8614282744282757</td><td>0.4335384615384614</td></tr><tr><td>2008</td><td>1.0462075471698111</td><td>0.47260691823899276</td></tr><tr><td>2009</td><td>0.8895000000000001</td><td>0.4295989010989009</td></tr><tr><td>2010</td><td>0.9525257879656184</td><td>0.45018194842406856</td></tr><tr><td>2011</td><td>0.7896553524804176</td><td>0.4111357702349871</td></tr><tr><td>2012</td><td>0.9028992869875205</td><td>0.43908957219251266</td></tr><tr><td>2013</td><td>0.9509482200647248</td><td>0.44012297734627875</td></tr><tr><td>2014</td><td>1.2352294372294377</td><td>0.48787012987012995</td></tr><tr><td>2015</td><td>1.0966047297297299</td><td>0.4668547297297298</td></tr><tr><td>2016</td><td>1.1056542372881368</td><td>0.4640644067796612</td></tr><tr><td>2017</td><td>1.0886871345029243</td><td>0.4723625730994153</td></tr><tr><td>2018</td><td>0.9888063271604931</td><td>0.44849845679012346</td></tr><tr><td>2019</td><td>0.9927482776894525</td><td>0.4555198728139904</td></tr><tr><td>2020</td><td>1.0635020600353136</td><td>0.4669317245438492</td></tr><tr><td>2021</td><td>1.0166175213675213</td><td>0.44590170940170887</td></tr><tr><td>2022</td><td>1.0241553228621287</td><td>0.44935078534031386</td></tr><tr><td>2023</td><td>1.0326234263820495</td><td>0.45636179529283055</td></tr><tr><td>2024</td><td>1.0818375000000002</td><td>0.4674799999999999</td></tr><tr><td>2025</td><td>1.0800208816705346</td><td>0.46731554524361907</td></tr><tr><td>294247</td><td>0.9286553396681314</td><td>0.4322167635796356</td></tr></tbody></table></div>"
      ]
     },
     "metadata": {
      "application/vnd.databricks.v1+output": {
       "addedWidgets": {},
       "aggData": [],
       "aggError": "",
       "aggOverflow": false,
       "aggSchema": [],
       "aggSeriesLimitReached": false,
       "aggType": "",
       "arguments": {},
       "columnCustomDisplayInfos": {},
       "data": [
        [
         1981,
         0.757244680851064,
         0.2899680851063828
        ],
        [
         1982,
         0.7308903225806446,
         0.37846451612903276
        ],
        [
         1983,
         null,
         null
        ],
        [
         1984,
         0.6799192245557356,
         0.3767528271405485
        ],
        [
         1985,
         0.8006737089201877,
         0.40397535211267604
        ],
        [
         1986,
         0.8397948717948719,
         0.4234102564102565
        ],
        [
         1987,
         0.7737510040160644,
         0.40567871485943785
        ],
        [
         1988,
         0.7867464387464387,
         0.40754131054131076
        ],
        [
         1989,
         0.48132779097387174,
         0.2810605700712588
        ],
        [
         1990,
         0.6192538226299691,
         0.34266972477064234
        ],
        [
         1991,
         0.8677819548872178,
         0.4076992481203007
        ],
        [
         1992,
         0.7317180851063826,
         0.39012765957446804
        ],
        [
         1993,
         0.6442647058823531,
         0.37964705882352945
        ],
        [
         1994,
         0.7899633911368017,
         0.40444123314065544
        ],
        [
         1995,
         0.7715995410212285,
         0.3863993115318413
        ],
        [
         1996,
         0.8525471698113201,
         0.4277761006289313
        ],
        [
         1997,
         0.9937088122605364,
         0.46148275862068977
        ],
        [
         1998,
         0.9325185995623617,
         0.44500875273523005
        ],
        [
         1999,
         0.8476845794392522,
         0.4198598130841119
        ],
        [
         2000,
         0.7309733570159856,
         0.3902841918294849
        ],
        [
         2001,
         0.9553091045335326,
         0.4591581116523032
        ],
        [
         2002,
         0.9832906118143461,
         0.4587146624472573
        ],
        [
         2003,
         1.0262125732551957,
         0.47489984017048537
        ],
        [
         2004,
         0.8086938775510204,
         0.40504081632653066
        ],
        [
         2005,
         0.9689533073929965,
         0.45320622568093394
        ],
        [
         2006,
         0.9860757961783431,
         0.46784012738853714
        ],
        [
         2007,
         0.8614282744282757,
         0.4335384615384614
        ],
        [
         2008,
         1.0462075471698111,
         0.47260691823899276
        ],
        [
         2009,
         0.8895000000000001,
         0.4295989010989009
        ],
        [
         2010,
         0.9525257879656184,
         0.45018194842406856
        ],
        [
         2011,
         0.7896553524804176,
         0.4111357702349871
        ],
        [
         2012,
         0.9028992869875205,
         0.43908957219251266
        ],
        [
         2013,
         0.9509482200647248,
         0.44012297734627875
        ],
        [
         2014,
         1.2352294372294377,
         0.48787012987012995
        ],
        [
         2015,
         1.0966047297297299,
         0.4668547297297298
        ],
        [
         2016,
         1.1056542372881368,
         0.4640644067796612
        ],
        [
         2017,
         1.0886871345029243,
         0.4723625730994153
        ],
        [
         2018,
         0.9888063271604931,
         0.44849845679012346
        ],
        [
         2019,
         0.9927482776894525,
         0.4555198728139904
        ],
        [
         2020,
         1.0635020600353136,
         0.4669317245438492
        ],
        [
         2021,
         1.0166175213675213,
         0.44590170940170887
        ],
        [
         2022,
         1.0241553228621287,
         0.44935078534031386
        ],
        [
         2023,
         1.0326234263820495,
         0.45636179529283055
        ],
        [
         2024,
         1.0818375000000002,
         0.4674799999999999
        ],
        [
         2025,
         1.0800208816705346,
         0.46731554524361907
        ],
        [
         294247,
         0.9286553396681314,
         0.4322167635796356
        ]
       ],
       "datasetInfos": [],
       "dbfsResultPath": null,
       "isJsonSchema": true,
       "metadata": {},
       "overflow": false,
       "plotOptions": {
        "customPlotOptions": {},
        "displayType": "table",
        "pivotAggregation": null,
        "pivotColumns": null,
        "xColumns": null,
        "yColumns": null
       },
       "removedWidgets": [],
       "schema": [
        {
         "metadata": "{}",
         "name": "year",
         "type": "\"integer\""
        },
        {
         "metadata": "{}",
         "name": "avg_lai",
         "type": "\"double\""
        },
        {
         "metadata": "{}",
         "name": "avg_fapar",
         "type": "\"double\""
        }
       ],
       "type": "table"
      }
     },
     "output_type": "display_data"
    }
   ],
   "source": [
    "# Convert time (ms since epoch) → timestamp → year\n",
    "df_with_year = df.withColumn(\n",
    "    \"year\",\n",
    "    F.year((df[\"time\"] / 1000).cast(\"timestamp\"))\n",
    ")\n",
    "\n",
    "yearly = (\n",
    "    df_with_year.groupBy(\"year\")\n",
    "        .agg(\n",
    "            F.avg(\"LAI\").alias(\"avg_lai\"),\n",
    "            F.avg(\"FAPAR\").alias(\"avg_fapar\")\n",
    "        )\n",
    "        .orderBy(\"year\")\n",
    ")\n",
    "\n",
    "display(yearly)\n"
   ]
  }
 ],
 "metadata": {
  "application/vnd.databricks.v1+notebook": {
   "computePreferences": null,
   "dashboards": [],
   "environmentMetadata": null,
   "inputWidgetPreferences": null,
   "language": "python",
   "notebookMetadata": {
    "pythonIndentUnit": 4
   },
   "notebookName": "01_explore_lai_fapar",
   "widgets": {}
  },
  "language_info": {
   "name": "python"
  }
 },
 "nbformat": 4,
 "nbformat_minor": 0
}